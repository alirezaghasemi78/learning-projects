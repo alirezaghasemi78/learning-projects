{
  "nbformat": 4,
  "nbformat_minor": 0,
  "metadata": {
    "colab": {
      "provenance": []
    },
    "kernelspec": {
      "name": "python3",
      "display_name": "Python 3"
    },
    "language_info": {
      "name": "python"
    }
  },
  "cells": [
    {
      "cell_type": "code",
      "execution_count": 53,
      "metadata": {
        "colab": {
          "base_uri": "https://localhost:8080/"
        },
        "id": "5h-yU-q23lno",
        "outputId": "0222718a-4727-45b7-d55e-7f230d4cc0b2"
      },
      "outputs": [
        {
          "output_type": "stream",
          "name": "stdout",
          "text": [
            "[2.87181458 3.26759452 3.26177683 2.63604559 3.11722788 2.43199331\n",
            " 1.99469906 3.3805834  3.21886788 2.15668689 2.25177639 3.24627812\n",
            " 3.54384768 2.18538437 2.18151831 2.68017798 2.85441108 3.91308034\n",
            " 3.08615813 2.28383416]\n",
            "[2.87181458 3.26759452 3.26177683 2.63604559 3.11722788 2.43199331\n",
            " 1.99469906 3.3805834  3.21886788 2.15668689 2.25177639 3.24627812\n",
            " 3.54384768 2.18538437 2.18151831 2.68017798 2.85441108 3.91308034\n",
            " 3.08615813 2.28383416]\n",
            "\n",
            "result np.allclose  True\n",
            "Execution time using for loop: 0.02086581399998977\n",
            "Execution time using function: 0.0010387399997853208\n"
          ]
        }
      ],
      "source": [
        "import numpy as np\n",
        "import timeit\n",
        "\n",
        "m,n=20,10\n",
        "A=np.random.rand(m,n)\n",
        "k=np.random.rand(n)\n",
        "p=np.zeros(m)\n",
        "\n",
        "# Approach 1: Using a for loop\n",
        "def Multiplication_with_for_loop(A,k,p):\n",
        "  for i in range(n):\n",
        "    p+=A[:,i]*k[i]\n",
        "  return p\n",
        "\n",
        "# Approach 2: Using the function\n",
        "def Multiplication_with_function(A,k):\n",
        "  return np.dot(A, k)\n",
        "\n",
        "print(Multiplication_with_for_loop(A,k,p))\n",
        "print(Multiplication_with_function(A,k))\n",
        "print()\n",
        "\n",
        "print(\"result np.allclose \" ,np.allclose(p,np.dot(A, k)))\n",
        "\n",
        "# Measure the execution time for each approach\n",
        "time_for_loop = timeit.timeit(lambda: Multiplication_with_for_loop(A,k,p), number=1000)\n",
        "time_for_function = timeit.timeit(lambda: np.dot(A, k), number=1000)\n",
        "\n",
        "print(\"Execution time using for loop:\", time_for_loop)\n",
        "print(\"Execution time using function:\", time_for_function)"
      ]
    },
    {
      "cell_type": "code",
      "source": [
        "import numpy as np\n",
        "\n",
        "# Define the matrix A and vector b\n",
        "A = np.array([[1, 2],\n",
        "              [3, 4],\n",
        "              [5, 6]])\n",
        "b = np.array([3, 7, 11])\n",
        "\n",
        "# Compute the SVD of A\n",
        "U, Sigma, Vt = np.linalg.svd(A)\n",
        "\n",
        "# Calculate the pseudo-inverse of A\n",
        "Sigma_pseudo_inv = np.zeros((A.shape[1], A.shape[0]))\n",
        "Sigma_pseudo_inv[:A.shape[1], :A.shape[1]] = np.diag(1/Sigma)\n",
        "\n",
        "A_pseudo_inv = Vt.T.dot(Sigma_pseudo_inv).dot(U.T)\n",
        "\n",
        "# Compute the least squares solution\n",
        "x = A_pseudo_inv.dot(b)\n",
        "\n",
        "print(\"Least squares solution:\")\n",
        "print(x)"
      ],
      "metadata": {
        "colab": {
          "base_uri": "https://localhost:8080/"
        },
        "id": "YInkVeR0JC-p",
        "outputId": "02972c43-773d-4b8d-ffeb-843ac5dae37b"
      },
      "execution_count": null,
      "outputs": [
        {
          "output_type": "stream",
          "name": "stdout",
          "text": [
            "Least squares solution:\n",
            "[1. 1.]\n"
          ]
        }
      ]
    },
    {
      "cell_type": "code",
      "source": [
        "import numpy as np\n",
        "\n",
        "def is_nonsingular(matrix):\n",
        "    det = np.linalg.det(matrix)\n",
        "    if det != 0:\n",
        "        return True\n",
        "    else:\n",
        "        return False\n",
        "\n",
        "# Example matrix\n",
        "matrix_A = np.array([[1, 2,3],\n",
        "                     [0, 4,1],\n",
        "                     [0, 0,1]])\n",
        "\n",
        "print(\"matrix A =\", \"\\n\" ,matrix_A)\n",
        "\n",
        "matrix_B = np.array([[1, 2,3],\n",
        "                     [0, 4,1],\n",
        "                     [0, 0,0]])\n",
        "\n",
        "print(\"\\n matrix B =\",\"\\n\" ,matrix_B)\n",
        "\n",
        "if is_nonsingular(matrix_A):\n",
        "    print(\"\\nThe matrix_A is nonsingular.\")\n",
        "else:\n",
        "    print(\"The matrix_A is singular.\")\n",
        "\n",
        "if is_nonsingular(matrix_B):\n",
        "    print(\" The matrix_B is nonsingular.\")\n",
        "else:\n",
        "    print(\"The matrix_B is singular.\")\n"
      ],
      "metadata": {
        "colab": {
          "base_uri": "https://localhost:8080/"
        },
        "id": "YyBR9uqpOTSr",
        "outputId": "dae71742-9d82-44e9-f3c7-0b108bb169cc"
      },
      "execution_count": 47,
      "outputs": [
        {
          "output_type": "stream",
          "name": "stdout",
          "text": [
            "matrix A = \n",
            " [[1 2 3]\n",
            " [0 4 1]\n",
            " [0 0 1]]\n",
            "\n",
            " matrix B = \n",
            " [[1 2 3]\n",
            " [0 4 1]\n",
            " [0 0 0]]\n",
            "\n",
            "The matrix_A is nonsingular.\n",
            "The matrix_B is singular.\n"
          ]
        }
      ]
    }
  ]
}