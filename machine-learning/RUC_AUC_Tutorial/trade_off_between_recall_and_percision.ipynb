{
  "nbformat": 4,
  "nbformat_minor": 0,
  "metadata": {
    "colab": {
      "provenance": []
    },
    "kernelspec": {
      "name": "python3",
      "display_name": "Python 3"
    },
    "language_info": {
      "name": "python"
    }
  },
  "cells": [
    {
      "cell_type": "code",
      "execution_count": null,
      "metadata": {
        "colab": {
          "base_uri": "https://localhost:8080/"
        },
        "id": "ZkcY8c6pycOD",
        "outputId": "516a46ff-8739-44bc-944a-32fb6274b441"
      },
      "outputs": [
        {
          "output_type": "stream",
          "name": "stdout",
          "text": [
            " Threshold  Accuracy  Precision  Recall  F1 Score  Specificity\n",
            "       0.1     0.713      0.632   0.993     0.772        0.444\n",
            "       0.2     0.787      0.713   0.946     0.813        0.634\n",
            "       0.3     0.823      0.773   0.905     0.834        0.745\n",
            "       0.4     0.823      0.797   0.857     0.826        0.791\n",
            "       0.5     0.807      0.820   0.776     0.797        0.837\n",
            "       0.6     0.783      0.842   0.687     0.757        0.876\n",
            "       0.7     0.763      0.880   0.599     0.713        0.922\n",
            "       0.8     0.700      0.870   0.456     0.598        0.935\n",
            "       0.9     0.620      0.923   0.245     0.387        0.980\n",
            "       1.0     0.510      0.000   0.000     0.000        1.000\n"
          ]
        }
      ],
      "source": [
        "import numpy as np\n",
        "import pandas as pd\n",
        "from sklearn.datasets import make_classification\n",
        "from sklearn.model_selection import train_test_split\n",
        "from sklearn.linear_model import LogisticRegression\n",
        "from sklearn.metrics import precision_score, recall_score, f1_score, accuracy_score, confusion_matrix\n",
        "\n",
        "# ساخت دیتای باینری\n",
        "X, y = make_classification(n_samples=1000, n_features=20,\n",
        "                           n_informative=5, n_redundant=2,\n",
        "                           random_state=42)\n",
        "\n",
        "# تقسیم به train و test\n",
        "X_train, X_test, y_train, y_test = train_test_split(X, y, test_size=0.3, random_state=42)\n",
        "\n",
        "# آموزش مدل\n",
        "model = LogisticRegression()\n",
        "model.fit(X_train, y_train)\n",
        "\n",
        "# پیش‌بینی احتمال\n",
        "y_probs = model.predict_proba(X_test)[:, 1]\n",
        "\n",
        "# تعریف threshold ها\n",
        "thresholds = np.arange(0.1, 1.01, 0.1)\n",
        "\n",
        "# لیست برای ذخیره متریک‌ها\n",
        "results = []\n",
        "\n",
        "# محاسبه متریک‌ها برای هر threshold\n",
        "for thresh in thresholds:\n",
        "    y_pred = (y_probs >= thresh).astype(int)\n",
        "    acc = accuracy_score(y_test, y_pred)\n",
        "    prec = precision_score(y_test, y_pred, zero_division=0)\n",
        "    rec = recall_score(y_test, y_pred)\n",
        "    f1 = f1_score(y_test, y_pred)\n",
        "    tn, fp, fn, tp = confusion_matrix(y_test, y_pred).ravel()\n",
        "    specificity = tn / (tn + fp)\n",
        "\n",
        "    results.append({\n",
        "        'Threshold': round(thresh, 2),\n",
        "        'Accuracy': round(acc, 3),\n",
        "        'Precision': round(prec, 3),\n",
        "        'Recall': round(rec, 3),\n",
        "        'F1 Score': round(f1, 3),\n",
        "        'Specificity': round(specificity, 3)\n",
        "    })\n",
        "\n",
        "# نمایش به صورت جدول\n",
        "df_results = pd.DataFrame(results)\n",
        "print(df_results.to_string(index=False))\n"
      ]
    }
  ]
}