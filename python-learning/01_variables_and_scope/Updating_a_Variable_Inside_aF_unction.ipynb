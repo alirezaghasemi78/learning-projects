{
  "nbformat": 4,
  "nbformat_minor": 0,
  "metadata": {
    "colab": {
      "provenance": []
    },
    "kernelspec": {
      "name": "python3",
      "display_name": "Python 3"
    },
    "language_info": {
      "name": "python"
    }
  },
  "cells": [
    {
      "cell_type": "markdown",
      "source": [
        "\n",
        "# 🔄 Updating a Variable Inside a Function and Reflecting the Change Globally in Python\n",
        "In Python, if you want to update a variable inside a function and have that change reflected globally, the approach depends on the variable's scope and type.\n",
        "\n"
      ],
      "metadata": {
        "id": "BIcHWi8Fj4Gc"
      }
    },
    {
      "cell_type": "markdown",
      "source": [
        "#1. Using global for Global Variables\n",
        "To modify a global variable inside a function, use the global keyword:"
      ],
      "metadata": {
        "id": "d3FnQFb7kFdh"
      }
    },
    {
      "cell_type": "code",
      "execution_count": 1,
      "metadata": {
        "colab": {
          "base_uri": "https://localhost:8080/"
        },
        "id": "79MIUFjBjvpp",
        "outputId": "482ad665-3a74-4d8d-9f27-9ab04c24ddbe"
      },
      "outputs": [
        {
          "output_type": "stream",
          "name": "stdout",
          "text": [
            "20\n"
          ]
        }
      ],
      "source": [
        "x = 10\n",
        "\n",
        "def change_x():\n",
        "    global x\n",
        "    x = 20\n",
        "\n",
        "change_x()\n",
        "print(x)  # Output: 20\n"
      ]
    },
    {
      "cell_type": "markdown",
      "source": [
        "Without global, the assignment creates a new local variable, and the global x remains unchanged."
      ],
      "metadata": {
        "id": "bRf_l8nZj7oi"
      }
    },
    {
      "cell_type": "markdown",
      "source": [
        "# 2. Modifying Mutable Objects\n",
        "Mutable objects like lists and dictionaries can be modified in-place without needing global:"
      ],
      "metadata": {
        "id": "8bL3MVT6kMB6"
      }
    },
    {
      "cell_type": "code",
      "source": [
        "my_list = [1, 2, 3]\n",
        "\n",
        "def update_list(lst):\n",
        "    lst[0] = 99\n",
        "\n",
        "update_list(my_list)\n",
        "print(my_list)  # Output: [99, 2, 3]\n"
      ],
      "metadata": {
        "colab": {
          "base_uri": "https://localhost:8080/"
        },
        "id": "s3WGrysWkA8e",
        "outputId": "da88bb99-574b-438b-bfa8-2daf3a28a479"
      },
      "execution_count": 2,
      "outputs": [
        {
          "output_type": "stream",
          "name": "stdout",
          "text": [
            "[99, 2, 3]\n"
          ]
        }
      ]
    },
    {
      "cell_type": "markdown",
      "source": [
        "\n",
        "Changes to the contents of the list inside the function affect the original object outside the function."
      ],
      "metadata": {
        "id": "zMGIWljZkRv5"
      }
    },
    {
      "cell_type": "markdown",
      "source": [
        "# 3. Immutable Objects and Return Values\n",
        "For immutable types like integers, strings, or tuples, you cannot modify them in-place. Instead, return the new value and reassign it:"
      ],
      "metadata": {
        "id": "bENcWcyIkY6L"
      }
    },
    {
      "cell_type": "code",
      "source": [
        "def change_value(x):\n",
        "    x = 42\n",
        "    return x\n",
        "\n",
        "x = 10\n",
        "x = change_value(x)\n",
        "print(x)  # Output: 42\n"
      ],
      "metadata": {
        "colab": {
          "base_uri": "https://localhost:8080/"
        },
        "id": "8Mi4EJ_KkW01",
        "outputId": "31f5ddb8-cbd7-4600-db8a-2a13c72b6be3"
      },
      "execution_count": 3,
      "outputs": [
        {
          "output_type": "stream",
          "name": "stdout",
          "text": [
            "42\n"
          ]
        }
      ]
    },
    {
      "cell_type": "markdown",
      "source": [
        "# Summary"
      ],
      "metadata": {
        "id": "hYmjk9pukhrd"
      }
    },
    {
      "cell_type": "markdown",
      "source": [
        "| Type of Variable            | Can Be Changed Globally Without `global`? | Recommended Method           |\n",
        "| --------------------------- | ----------------------------------------- | ---------------------------- |\n",
        "| Immutable (int, str, tuple) | ❌ No                                      | Return new value             |\n",
        "| Mutable (list, dict, set)   | ✅ Yes                                     | Modify in-place              |\n",
        "| Global primitive variable   | ❌ No                                      | Use `global` inside function |\n"
      ],
      "metadata": {
        "id": "e19ET_EAknfL"
      }
    },
    {
      "cell_type": "markdown",
      "source": [
        "This summary provides a clear understanding of how Python handles variable scope and modification within functions."
      ],
      "metadata": {
        "id": "WlFqnhfvkyPV"
      }
    },
    {
      "cell_type": "markdown",
      "source": [],
      "metadata": {
        "id": "eDwKV-VhkzDu"
      }
    }
  ]
}