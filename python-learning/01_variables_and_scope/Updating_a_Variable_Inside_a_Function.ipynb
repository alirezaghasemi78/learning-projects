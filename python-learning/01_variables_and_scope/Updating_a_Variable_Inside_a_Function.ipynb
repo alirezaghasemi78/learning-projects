{
  "nbformat": 4,
  "nbformat_minor": 0,
  "metadata": {
    "colab": {
      "provenance": []
    },
    "kernelspec": {
      "name": "python3",
      "display_name": "Python 3"
    },
    "language_info": {
      "name": "python"
    }
  },
  "cells": [
    {
      "cell_type": "markdown",
      "source": [
        "\n",
        "# 🔄 Updating a Variable Inside a Function and Reflecting the Change Globally in Python\n",
        "In Python, if you want to update a variable inside a function and have that change reflected globally, the approach depends on the variable's scope and type.\n",
        "\n"
      ],
      "metadata": {
        "id": "BIcHWi8Fj4Gc"
      }
    },
    {
      "cell_type": "markdown",
      "source": [
        "#1. Using global for Global Variables\n",
        "To modify a global variable inside a function, use the global keyword:"
      ],
      "metadata": {
        "id": "d3FnQFb7kFdh"
      }
    },
    {
      "cell_type": "code",
      "execution_count": 1,
      "metadata": {
        "colab": {
          "base_uri": "https://localhost:8080/"
        },
        "id": "79MIUFjBjvpp",
        "outputId": "482ad665-3a74-4d8d-9f27-9ab04c24ddbe"
      },
      "outputs": [
        {
          "output_type": "stream",
          "name": "stdout",
          "text": [
            "20\n"
          ]
        }
      ],
      "source": [
        "x = 10\n",
        "\n",
        "def change_x():\n",
        "    global x\n",
        "    x = 20\n",
        "\n",
        "change_x()\n",
        "print(x)  # Output: 20\n"
      ]
    },
    {
      "cell_type": "markdown",
      "source": [
        "Without global, the assignment creates a new local variable, and the global x remains unchanged."
      ],
      "metadata": {
        "id": "bRf_l8nZj7oi"
      }
    },
    {
      "cell_type": "markdown",
      "source": [
        "# 2. Modifying Mutable Objects\n",
        "Mutable objects like lists and dictionaries can be modified in-place without needing global:"
      ],
      "metadata": {
        "id": "8bL3MVT6kMB6"
      }
    },
    {
      "cell_type": "code",
      "source": [
        "my_list = [1, 2, 3]\n",
        "\n",
        "def update_list(lst):\n",
        "    lst[0] = 99\n",
        "\n",
        "update_list(my_list)\n",
        "print(my_list)  # Output: [99, 2, 3]\n"
      ],
      "metadata": {
        "colab": {
          "base_uri": "https://localhost:8080/"
        },
        "id": "s3WGrysWkA8e",
        "outputId": "ed21cf3d-fc71-4ae6-c3f2-5f085d05a979"
      },
      "execution_count": 4,
      "outputs": [
        {
          "output_type": "stream",
          "name": "stdout",
          "text": [
            "[99, 2, 3]\n"
          ]
        }
      ]
    },
    {
      "cell_type": "markdown",
      "source": [
        "but"
      ],
      "metadata": {
        "id": "bxnoY7Q9pOmh"
      }
    },
    {
      "cell_type": "code",
      "source": [
        "my_list = [1, 2, 3]\n",
        "\n",
        "def reassign_list(lst):\n",
        "    lst = [99]  #\n",
        "\n",
        "reassign_list(my_list)\n",
        "print(my_list)  # Output: [1, 2, 3]"
      ],
      "metadata": {
        "colab": {
          "base_uri": "https://localhost:8080/"
        },
        "id": "jBMOhlYDpIfb",
        "outputId": "9fb23d31-c9eb-4362-8a26-f4d46fe3d7e3"
      },
      "execution_count": 6,
      "outputs": [
        {
          "output_type": "stream",
          "name": "stdout",
          "text": [
            "[1, 2, 3]\n"
          ]
        }
      ]
    },
    {
      "cell_type": "markdown",
      "source": [
        "\n",
        "Changes to the contents of the list inside the function affect the original object outside the function."
      ],
      "metadata": {
        "id": "zMGIWljZkRv5"
      }
    },
    {
      "cell_type": "markdown",
      "source": [
        "# 3. Immutable Objects and Return Values\n",
        "For immutable types like integers, strings, or tuples, you cannot modify them in-place. Instead, return the new value and reassign it:"
      ],
      "metadata": {
        "id": "bENcWcyIkY6L"
      }
    },
    {
      "cell_type": "code",
      "source": [
        "def change_value(x):\n",
        "    x = 42\n",
        "    return x\n",
        "\n",
        "x = 10\n",
        "x = change_value(x)\n",
        "print(x)  # Output: 42\n"
      ],
      "metadata": {
        "colab": {
          "base_uri": "https://localhost:8080/"
        },
        "id": "8Mi4EJ_KkW01",
        "outputId": "31f5ddb8-cbd7-4600-db8a-2a13c72b6be3"
      },
      "execution_count": 3,
      "outputs": [
        {
          "output_type": "stream",
          "name": "stdout",
          "text": [
            "42\n"
          ]
        }
      ]
    },
    {
      "cell_type": "markdown",
      "source": [
        "# Summary"
      ],
      "metadata": {
        "id": "hYmjk9pukhrd"
      }
    },
    {
      "cell_type": "markdown",
      "source": [
        "| Type of Variable            | Can Be Changed Globally Without `global`? | Recommended Method           |\n",
        "| --------------------------- | ----------------------------------------- | ---------------------------- |\n",
        "| Immutable (int, str, tuple) | ❌ No                                      | Return new value             |\n",
        "| Mutable (list, dict, set)   | ✅ Yes                                     | Modify in-place              |\n",
        "| Global primitive variable   | ❌ No                                      | Use `global` inside function |\n"
      ],
      "metadata": {
        "id": "e19ET_EAknfL"
      }
    },
    {
      "cell_type": "markdown",
      "source": [
        "This summary provides a clear understanding of how Python handles variable scope and modification within functions."
      ],
      "metadata": {
        "id": "WlFqnhfvkyPV"
      }
    },
    {
      "cell_type": "markdown",
      "source": [
        "# 🔁 Understanding nonlocal in Python\n",
        "📌 What is nonlocal?\n",
        "\n",
        "The nonlocal keyword in Python is used to modify a variable in an enclosing (but non-global) scope inside a nested function. It allows inner functions to rebind variables defined in the outer (enclosing) function, rather than creating a new local variable."
      ],
      "metadata": {
        "id": "eDwKV-VhkzDu"
      }
    },
    {
      "cell_type": "markdown",
      "source": [
        "🔍 When Should You Use nonlocal?\n",
        "Use nonlocal when:\n",
        "\n",
        "You have nested functions.\n",
        "\n",
        "You want the inner function to update a variable from the outer function’s scope.\n",
        "\n",
        "You don’t want to use global, because the variable is not global — it's defined in an enclosing function."
      ],
      "metadata": {
        "id": "7dXiXDn7ouIS"
      }
    },
    {
      "cell_type": "code",
      "source": [
        "def outer():\n",
        "    x = 10\n",
        "    def inner():\n",
        "        nonlocal x\n",
        "        x = 20\n",
        "    inner()\n",
        "    print(x)\n",
        "\n",
        "outer()\n",
        "# Output: 20"
      ],
      "metadata": {
        "colab": {
          "base_uri": "https://localhost:8080/"
        },
        "id": "Jp-SarkSorCW",
        "outputId": "db9f0d1b-666c-4878-edb6-ef3789290c55"
      },
      "execution_count": 5,
      "outputs": [
        {
          "output_type": "stream",
          "name": "stdout",
          "text": [
            "20\n"
          ]
        }
      ]
    },
    {
      "cell_type": "markdown",
      "source": [
        "Without nonlocal, the assignment x = 20 inside inner() would create a new local variable, and the x in outer() would remain unchanged."
      ],
      "metadata": {
        "id": "TXDbPABTo1LZ"
      }
    },
    {
      "cell_type": "markdown",
      "source": [
        "🚫 Limitations\n",
        "nonlocal cannot be used to access or modify global variables.\n",
        "\n",
        "It only works in nested functions, not at the top level of a module.\n",
        "\n",
        "The variable must already exist in the enclosing scope — it cannot declare new variables."
      ],
      "metadata": {
        "id": "FyiahgucpAG3"
      }
    },
    {
      "cell_type": "code",
      "source": [],
      "metadata": {
        "id": "jX3ObHJ8oyNX"
      },
      "execution_count": null,
      "outputs": []
    }
  ]
}